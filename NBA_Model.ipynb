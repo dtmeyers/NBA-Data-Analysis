{
  "nbformat": 4,
  "nbformat_minor": 0,
  "metadata": {
    "colab": {
      "provenance": [],
      "collapsed_sections": [],
      "mount_file_id": "1VgoJb8hjnc6-gguUUtxlQdsQf07ulMnH",
      "authorship_tag": "ABX9TyO4mMp6kfgykPmZ2XgxPFtp"
    },
    "kernelspec": {
      "name": "python3",
      "display_name": "Python 3"
    },
    "language_info": {
      "name": "python"
    }
  },
  "cells": [
    {
      "cell_type": "code",
      "execution_count": 1,
      "metadata": {
        "colab": {
          "base_uri": "https://localhost:8080/",
          "height": 317
        },
        "id": "O1KP1yO9t8XI",
        "outputId": "1caff18a-cff5-4873-e83c-727fc49d039b"
      },
      "outputs": [
        {
          "output_type": "stream",
          "name": "stdout",
          "text": [
            "0.3419169567132157\n",
            "0.3169673270276889\n",
            "0.4041826354921088\n"
          ]
        },
        {
          "output_type": "display_data",
          "data": {
            "text/plain": [
              "<Figure size 432x288 with 1 Axes>"
            ],
            "image/png": "[encoded data removed]"
          },
          "metadata": {
            "needs_background": "light"
          }
        }
      ],
      "source": [
        "import numpy as np\n",
        "import pandas as pd\n",
        "import matplotlib.pyplot as plt\n",
        "from sklearn import linear_model\n",
        "from sklearn.metrics import r2_score\n",
        "from scipy.stats import gamma\n",
        "from sklearn.neighbors import NearestNeighbors\n",
        "import seaborn as sns\n",
        "from datetime import datetime\n",
        "\n",
        "# TODO\n",
        "# adjust how atk and def ratings are calculated\n",
        "# right now, they weight each game equally\n",
        "# which overweights the possessions in high possession games\n",
        "\n",
        "# NOTE\n",
        "# gamma regressor may not be optimal for this projection\n",
        "# use this to experiment with Keras/TensorFlow\n",
        "\n",
        "game_data = pd.read_csv('/content/drive/MyDrive/Sports Data Analysis/NBA/Possession Data/CSV Files/2007-2022.csv').drop('Unnamed: 0', axis=1).dropna().reset_index(drop=True)\n",
        "game_data['Pace'] = np.divide(np.add(game_data['Home Possessions'], game_data['Away Possessions']), 2)\n",
        "\n",
        "# Build sample/test datasets to perform repeated tests\n",
        "# For example, sample goes through 2016 season, test 2017 season\n",
        "# then reset sample to go through 2017, and test 2018 season\n",
        "# That is the best way to leverage the massive quantity of data available\n",
        "\n",
        "sample_data = game_data[game_data['Season'] < 2015]\n",
        "test_data = game_data[game_data['Season'] == 2015].reset_index(drop=True)\n",
        "\n",
        "# Create sample datasets to train model\n",
        "\n",
        "sample_home = [[sample_data['Home Atk'][x], sample_data['Away Def'][x]] for x in range(len(sample_data))]\n",
        "sample_away = [[sample_data['Away Atk'][x], sample_data['Home Def'][x]] for x in range(len(sample_data))]\n",
        "sample_pace = [[sample_data['Home Pace'][x], sample_data['Away Pace'][x]] for x in range(len(sample_data))]\n",
        "\n",
        "# Initialize a gamma linear distribution model\n",
        "\n",
        "gld_home = linear_model.TweedieRegressor(power=2, alpha=0.0, link='log', warm_start=False)\n",
        "gld_away = linear_model.TweedieRegressor(power=2, alpha=0.0, link='log', warm_start=False)\n",
        "gld_pace = linear_model.TweedieRegressor(power=2, alpha=0.0, link='log', warm_start=False)\n",
        "\n",
        "# Fit the model based on the sample data\n",
        "\n",
        "gld_home.fit(sample_home, np.array(sample_data['Home Eff']))\n",
        "gld_away.fit(sample_away, np.array(sample_data['Away Eff']))\n",
        "gld_pace.fit(sample_pace, np.array(sample_data['Pace']))\n",
        "\n",
        "# Create test datasets\n",
        "\n",
        "pred_home = [[test_data['Home Atk'][x], test_data['Away Def'][x]] for x in range(len(test_data))]\n",
        "pred_away = [[test_data['Away Atk'][x], test_data['Home Def'][x]] for x in range(len(test_data))]\n",
        "pred_pace = [[test_data['Home Pace'][x], test_data['Away Pace'][x]] for x in range(len(test_data))]\n",
        "\n",
        "# Use the model to predict outcomes in the test data\n",
        "\n",
        "model_home_eff = gld_home.predict(pred_home)\n",
        "model_away_eff = gld_away.predict(pred_away)\n",
        "model_pace = gld_pace.predict(pred_pace)\n",
        "\n",
        "test_data['Proj Pace'] = np.array(model_pace)\n",
        "test_data['Proj Home Eff'] = np.array(model_home_eff)\n",
        "test_data['Proj Home Points'] = np.multiply(test_data['Proj Home Eff'], test_data['Proj Pace'])\n",
        "test_data['Proj Away Eff'] = np.array(model_away_eff)\n",
        "test_data['Proj Away Points'] = np.multiply(test_data['Proj Away Eff'], test_data['Proj Pace'])\n",
        "\n",
        "print(test_data['Home Points'].corr(test_data['Proj Home Points']))\n",
        "print(test_data['Away Points'].corr(test_data['Proj Away Points']))\n",
        "print(test_data['Proj Pace'].corr(test_data['Pace']))\n",
        "\n",
        "plt.scatter(test_data['Proj Pace'], test_data['Pace'])\n",
        "plt.show()"
      ]
    },
    {
      "cell_type": "code",
      "source": [],
      "metadata": {
        "id": "twLNjW4OoKYd"
      },
      "execution_count": null,
      "outputs": []
    }
  ]
}